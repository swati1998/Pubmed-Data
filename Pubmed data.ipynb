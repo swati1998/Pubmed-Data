{
 "cells": [
  {
   "cell_type": "code",
   "execution_count": 1,
   "metadata": {},
   "outputs": [],
   "source": [
    "#pip install biopython\n",
    "from Bio import Entrez"
   ]
  },
  {
   "cell_type": "markdown",
   "metadata": {},
   "source": [
    "Abstract scrapping from first 100 search results"
   ]
  },
  {
   "cell_type": "code",
   "execution_count": 2,
   "metadata": {},
   "outputs": [],
   "source": [
    "def search(query):\n",
    "    Entrez.email = 'your.email@example.com'\n",
    "    handle = Entrez.esearch(db='pubmed',\n",
    "                            sort='relevance',\n",
    "                            retmax='100', #100 search results\n",
    "                            retmode='xml',\n",
    "                            term=query)\n",
    "    results = Entrez.read(handle)\n",
    "    return results\n",
    "\n",
    "def fetch_details(id_list):\n",
    "    ids = ','.join(id_list)\n",
    "    Entrez.email = 'your.email@example.com'\n",
    "    handle = Entrez.efetch(db='pubmed',\n",
    "                           retmode='xml',\n",
    "                           id=ids)\n",
    "    results = Entrez.read(handle)\n",
    "    return results\n",
    "\n",
    "if __name__ == '__main__':\n",
    "    results = search('neurodegenerative diseases')\n",
    "    id_list = results['IdList']\n",
    "    papers = fetch_details(id_list)"
   ]
  },
  {
   "cell_type": "markdown",
   "metadata": {},
   "source": [
    "Converting 100 abstracts to a dataframe"
   ]
  },
  {
   "cell_type": "code",
   "execution_count": 26,
   "metadata": {},
   "outputs": [
    {
     "data": {
      "text/html": [
       "<div>\n",
       "<style scoped>\n",
       "    .dataframe tbody tr th:only-of-type {\n",
       "        vertical-align: middle;\n",
       "    }\n",
       "\n",
       "    .dataframe tbody tr th {\n",
       "        vertical-align: top;\n",
       "    }\n",
       "\n",
       "    .dataframe thead th {\n",
       "        text-align: right;\n",
       "    }\n",
       "</style>\n",
       "<table border=\"1\" class=\"dataframe\">\n",
       "  <thead>\n",
       "    <tr style=\"text-align: right;\">\n",
       "      <th></th>\n",
       "      <th>Abstract</th>\n",
       "    </tr>\n",
       "  </thead>\n",
       "  <tbody>\n",
       "    <tr>\n",
       "      <td>0</td>\n",
       "      <td>molecular chaperones biochemistry and role in ...</td>\n",
       "    </tr>\n",
       "    <tr>\n",
       "      <td>1</td>\n",
       "      <td>microrna dysregulation in neurodegenerative di...</td>\n",
       "    </tr>\n",
       "    <tr>\n",
       "      <td>2</td>\n",
       "      <td>potential for therapeutic use of hydrogen sulf...</td>\n",
       "    </tr>\n",
       "    <tr>\n",
       "      <td>3</td>\n",
       "      <td>dietary inflammatory potential and the risk of...</td>\n",
       "    </tr>\n",
       "    <tr>\n",
       "      <td>4</td>\n",
       "      <td>hypertension, diabetes and neurodegenerative d...</td>\n",
       "    </tr>\n",
       "    <tr>\n",
       "      <td>5</td>\n",
       "      <td>targeting purinergic signaling and cell therap...</td>\n",
       "    </tr>\n",
       "    <tr>\n",
       "      <td>6</td>\n",
       "      <td>regulatory roles of the mir-200 family in neur...</td>\n",
       "    </tr>\n",
       "    <tr>\n",
       "      <td>7</td>\n",
       "      <td>regulation of autophagy in neurodegenerative d...</td>\n",
       "    </tr>\n",
       "    <tr>\n",
       "      <td>8</td>\n",
       "      <td>do microglial sex differences contribute to se...</td>\n",
       "    </tr>\n",
       "    <tr>\n",
       "      <td>9</td>\n",
       "      <td>exosome biomarkers revolutionize preclinical d...</td>\n",
       "    </tr>\n",
       "  </tbody>\n",
       "</table>\n",
       "</div>"
      ],
      "text/plain": [
       "                                            Abstract\n",
       "0  molecular chaperones biochemistry and role in ...\n",
       "1  microrna dysregulation in neurodegenerative di...\n",
       "2  potential for therapeutic use of hydrogen sulf...\n",
       "3  dietary inflammatory potential and the risk of...\n",
       "4  hypertension, diabetes and neurodegenerative d...\n",
       "5  targeting purinergic signaling and cell therap...\n",
       "6  regulatory roles of the mir-200 family in neur...\n",
       "7  regulation of autophagy in neurodegenerative d...\n",
       "8  do microglial sex differences contribute to se...\n",
       "9  exosome biomarkers revolutionize preclinical d..."
      ]
     },
     "execution_count": 26,
     "metadata": {},
     "output_type": "execute_result"
    }
   ],
   "source": [
    "Abs=[]\n",
    "for i, paper in enumerate(papers['PubmedArticle']):\n",
    "    Abs.append(paper['MedlineCitation']['Article']['ArticleTitle'])\n",
    "Abs=[item.lower() for item in Abs]\n",
    "import pandas as pd\n",
    "data=pd.DataFrame()\n",
    "data['Abstract']=Abs\n",
    "data.head(10)"
   ]
  },
  {
   "cell_type": "markdown",
   "metadata": {},
   "source": [
    "Excluding the punctuation marks to clean the data"
   ]
  },
  {
   "cell_type": "code",
   "execution_count": 27,
   "metadata": {},
   "outputs": [],
   "source": [
    "import string\n",
    "\n",
    "data['cleaned'] = data['Abstract'].apply(lambda x:''.join([i for i in x if i not in string.punctuation]))"
   ]
  },
  {
   "cell_type": "markdown",
   "metadata": {},
   "source": [
    "10 most frequently occuring words from the corpus"
   ]
  },
  {
   "cell_type": "code",
   "execution_count": 28,
   "metadata": {},
   "outputs": [
    {
     "data": {
      "text/plain": [
       "[('neurodegenerative', 100),\n",
       " ('in', 72),\n",
       " ('of', 68),\n",
       " ('and', 53),\n",
       " ('diseases', 34),\n",
       " ('the', 31),\n",
       " ('a', 25),\n",
       " ('for', 20),\n",
       " ('role', 9),\n",
       " ('to', 9)]"
      ]
     },
     "execution_count": 28,
     "metadata": {},
     "output_type": "execute_result"
    }
   ],
   "source": [
    "from collections import Counter\n",
    "split_it = \"\".join(data.cleaned).split()\n",
    "Counter = Counter(split_it) \n",
    "most_occur = Counter.most_common(10) \n",
    "most_occur"
   ]
  },
  {
   "cell_type": "markdown",
   "metadata": {},
   "source": [
    "Excluding words from most_occur list"
   ]
  },
  {
   "cell_type": "code",
   "execution_count": 29,
   "metadata": {},
   "outputs": [
    {
     "data": {
      "text/plain": [
       "0                  moleculr chperones biochemistry     \n",
       "1             microrn dysregultion     systemtic review\n",
       "2     potentil  rpeutic use  hydrogen sulfide  oxidt...\n",
       "3               dietry flmmry potentil   risk     dults\n",
       "4     hypertension dibetes    is re  clicl lk throug...\n",
       "                            ...                        \n",
       "95    emergg   genetic ltertions ffectg exosome biol...\n",
       "96                            hsp90  its cochperones   \n",
       "97     neuropthologicl  clicl dignostic criteri  chr...\n",
       "98    chemicl bsis  rective oxygen species rectivity...\n",
       "99               michondril dynmics  key executioner   \n",
       "Name: cleaned, Length: 100, dtype: object"
      ]
     },
     "execution_count": 29,
     "metadata": {},
     "output_type": "execute_result"
    }
   ],
   "source": [
    "most_occur1=[a for a,b in most_occur]\n",
    "data['cleaned']=data['cleaned'].str.replace('|'.join(most_occur1), '')\n",
    "data['cleaned']"
   ]
  },
  {
   "cell_type": "code",
   "execution_count": 30,
   "metadata": {},
   "outputs": [
    {
     "data": {
      "text/plain": [
       "['neurodegenerative',\n",
       " 'in',\n",
       " 'of',\n",
       " 'and',\n",
       " 'diseases',\n",
       " 'the',\n",
       " 'a',\n",
       " 'for',\n",
       " 'role',\n",
       " 'to']"
      ]
     },
     "execution_count": 30,
     "metadata": {},
     "output_type": "execute_result"
    }
   ],
   "source": [
    "most_occur1"
   ]
  },
  {
   "cell_type": "markdown",
   "metadata": {},
   "source": [
    "Matrix of vectors for each abstract"
   ]
  },
  {
   "cell_type": "code",
   "execution_count": 31,
   "metadata": {},
   "outputs": [
    {
     "data": {
      "text/html": [
       "<div>\n",
       "<style scoped>\n",
       "    .dataframe tbody tr th:only-of-type {\n",
       "        vertical-align: middle;\n",
       "    }\n",
       "\n",
       "    .dataframe tbody tr th {\n",
       "        vertical-align: top;\n",
       "    }\n",
       "\n",
       "    .dataframe thead th {\n",
       "        text-align: right;\n",
       "    }\n",
       "</style>\n",
       "<table border=\"1\" class=\"dataframe\">\n",
       "  <thead>\n",
       "    <tr style=\"text-align: right;\">\n",
       "      <th></th>\n",
       "      <th>19902016</th>\n",
       "      <th>2016</th>\n",
       "      <th>2020</th>\n",
       "      <th>3like</th>\n",
       "      <th>be</th>\n",
       "      <th>behvior</th>\n",
       "      <th>berbere</th>\n",
       "      <th>between</th>\n",
       "      <th>biluids</th>\n",
       "      <th>biochemistry</th>\n",
       "      <th>...</th>\n",
       "      <th>volvement</th>\n",
       "      <th>wdow</th>\n",
       "      <th>weldg</th>\n",
       "      <th>wht</th>\n",
       "      <th>with</th>\n",
       "      <th>world</th>\n",
       "      <th>wrd</th>\n",
       "      <th>xis</th>\n",
       "      <th>ykl40</th>\n",
       "      <th>αsynucle</th>\n",
       "    </tr>\n",
       "    <tr>\n",
       "      <th>cleaned</th>\n",
       "      <th></th>\n",
       "      <th></th>\n",
       "      <th></th>\n",
       "      <th></th>\n",
       "      <th></th>\n",
       "      <th></th>\n",
       "      <th></th>\n",
       "      <th></th>\n",
       "      <th></th>\n",
       "      <th></th>\n",
       "      <th></th>\n",
       "      <th></th>\n",
       "      <th></th>\n",
       "      <th></th>\n",
       "      <th></th>\n",
       "      <th></th>\n",
       "      <th></th>\n",
       "      <th></th>\n",
       "      <th></th>\n",
       "      <th></th>\n",
       "      <th></th>\n",
       "    </tr>\n",
       "  </thead>\n",
       "  <tbody>\n",
       "    <tr>\n",
       "      <td>moleculr chperones biochemistry</td>\n",
       "      <td>0</td>\n",
       "      <td>0</td>\n",
       "      <td>0</td>\n",
       "      <td>0</td>\n",
       "      <td>0</td>\n",
       "      <td>0</td>\n",
       "      <td>0</td>\n",
       "      <td>0</td>\n",
       "      <td>0</td>\n",
       "      <td>1</td>\n",
       "      <td>...</td>\n",
       "      <td>0</td>\n",
       "      <td>0</td>\n",
       "      <td>0</td>\n",
       "      <td>0</td>\n",
       "      <td>0</td>\n",
       "      <td>0</td>\n",
       "      <td>0</td>\n",
       "      <td>0</td>\n",
       "      <td>0</td>\n",
       "      <td>0</td>\n",
       "    </tr>\n",
       "    <tr>\n",
       "      <td>microrn dysregultion     systemtic review</td>\n",
       "      <td>0</td>\n",
       "      <td>0</td>\n",
       "      <td>0</td>\n",
       "      <td>0</td>\n",
       "      <td>0</td>\n",
       "      <td>0</td>\n",
       "      <td>0</td>\n",
       "      <td>0</td>\n",
       "      <td>0</td>\n",
       "      <td>0</td>\n",
       "      <td>...</td>\n",
       "      <td>0</td>\n",
       "      <td>0</td>\n",
       "      <td>0</td>\n",
       "      <td>0</td>\n",
       "      <td>0</td>\n",
       "      <td>0</td>\n",
       "      <td>0</td>\n",
       "      <td>0</td>\n",
       "      <td>0</td>\n",
       "      <td>0</td>\n",
       "    </tr>\n",
       "  </tbody>\n",
       "</table>\n",
       "<p>2 rows × 460 columns</p>\n",
       "</div>"
      ],
      "text/plain": [
       "                                           19902016  2016  2020  3like  be  \\\n",
       "cleaned                                                                      \n",
       "moleculr chperones biochemistry                   0     0     0      0   0   \n",
       "microrn dysregultion     systemtic review         0     0     0      0   0   \n",
       "\n",
       "                                           behvior  berbere  between  biluids  \\\n",
       "cleaned                                                                         \n",
       "moleculr chperones biochemistry                  0        0        0        0   \n",
       "microrn dysregultion     systemtic review        0        0        0        0   \n",
       "\n",
       "                                           biochemistry  ...  volvement  wdow  \\\n",
       "cleaned                                                  ...                    \n",
       "moleculr chperones biochemistry                       1  ...          0     0   \n",
       "microrn dysregultion     systemtic review             0  ...          0     0   \n",
       "\n",
       "                                           weldg  wht  with  world  wrd  xis  \\\n",
       "cleaned                                                                        \n",
       "moleculr chperones biochemistry                0    0     0      0    0    0   \n",
       "microrn dysregultion     systemtic review      0    0     0      0    0    0   \n",
       "\n",
       "                                           ykl40  αsynucle  \n",
       "cleaned                                                     \n",
       "moleculr chperones biochemistry                0         0  \n",
       "microrn dysregultion     systemtic review      0         0  \n",
       "\n",
       "[2 rows x 460 columns]"
      ]
     },
     "execution_count": 31,
     "metadata": {},
     "output_type": "execute_result"
    }
   ],
   "source": [
    "from sklearn.feature_extraction.text import CountVectorizer\n",
    "\n",
    "# Create the Document Term Matrix\n",
    "count_vectorizer = CountVectorizer(stop_words='english')\n",
    "count_vectorizer = CountVectorizer()\n",
    "sparse_matrix = count_vectorizer.fit_transform(data['cleaned'])\n",
    "\n",
    "# OPTIONAL: Convert Sparse Matrix to Pandas Dataframe if you want to see the word frequencies.\n",
    "doc_term_matrix = sparse_matrix.todense()\n",
    "df = pd.DataFrame(doc_term_matrix, \n",
    "                  columns=count_vectorizer.get_feature_names(), \n",
    "                  index=data['cleaned'])\n",
    "df.head(2)"
   ]
  },
  {
   "cell_type": "markdown",
   "metadata": {},
   "source": [
    "Converting corpus into 6 clusters using K-means clustering using cosine similarity as the distance measurement"
   ]
  },
  {
   "cell_type": "code",
   "execution_count": 32,
   "metadata": {},
   "outputs": [
    {
     "data": {
      "text/plain": [
       "KMeans(algorithm='auto', copy_x=True, init='k-means++', max_iter=100,\n",
       "       n_clusters=6, n_init=1, n_jobs=None, precompute_distances='auto',\n",
       "       random_state=None, tol=0.0001, verbose=0)"
      ]
     },
     "execution_count": 32,
     "metadata": {},
     "output_type": "execute_result"
    }
   ],
   "source": [
    "from sklearn.feature_extraction.text import TfidfVectorizer\n",
    "from sklearn.cluster import KMeans\n",
    "vectorizer = TfidfVectorizer(stop_words='english')\n",
    "X = vectorizer.fit_transform(data['cleaned'])\n",
    "\n",
    "#cluster documents    \n",
    "true_k = 6 #number of clusters\n",
    "model = KMeans(n_clusters=true_k, init='k-means++', max_iter=100, n_init=1)\n",
    "model.fit(X)\n"
   ]
  },
  {
   "cell_type": "markdown",
   "metadata": {},
   "source": [
    "Top 3 unique words from each cluster which are close to the centroid of the cluster "
   ]
  },
  {
   "cell_type": "code",
   "execution_count": 34,
   "metadata": {},
   "outputs": [
    {
     "name": "stdout",
     "output_type": "stream",
     "text": [
      "Top terms per cluster:\n",
      "Cluster 0:\n",
      " dysfunction\n",
      " olfcry\n",
      " prote\n",
      "\n",
      "\n",
      "Cluster 1:\n",
      " review\n",
      " stem\n",
      " cells\n",
      "\n",
      "\n",
      "Cluster 2:\n",
      " moleculr\n",
      " key\n",
      " common\n",
      "\n",
      "\n",
      "Cluster 3:\n",
      " oxidtive\n",
      " rpeutic\n",
      " stress\n",
      "\n",
      "\n",
      "Cluster 4:\n",
      " potentil\n",
      " trget\n",
      " sleep\n",
      "\n",
      "\n",
      "Cluster 5:\n",
      " erly\n",
      " chronic\n",
      " neuropthy\n",
      "\n",
      "\n"
     ]
    }
   ],
   "source": [
    "#print top terms per cluster clusters    \n",
    "print(\"Top terms per cluster:\")\n",
    "order_centroids = model.cluster_centers_.argsort()[:, ::-1]\n",
    "terms = vectorizer.get_feature_names()\n",
    "for i in range(true_k):\n",
    "    print (\"Cluster %d:\" % i,)\n",
    "    for ind in order_centroids[i, :3]:\n",
    "        print(' %s' % terms[ind])\n",
    "    print()\n",
    "    print()"
   ]
  },
  {
   "cell_type": "code",
   "execution_count": null,
   "metadata": {},
   "outputs": [],
   "source": []
  }
 ],
 "metadata": {
  "kernelspec": {
   "display_name": "Python 3",
   "language": "python",
   "name": "python3"
  },
  "language_info": {
   "codemirror_mode": {
    "name": "ipython",
    "version": 3
   },
   "file_extension": ".py",
   "mimetype": "text/x-python",
   "name": "python",
   "nbconvert_exporter": "python",
   "pygments_lexer": "ipython3",
   "version": "3.7.4"
  }
 },
 "nbformat": 4,
 "nbformat_minor": 2
}
